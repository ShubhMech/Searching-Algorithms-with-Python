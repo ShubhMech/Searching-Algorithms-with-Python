{
 "cells": [
  {
   "cell_type": "code",
   "execution_count": 1,
   "id": "e4390254-a330-4bf9-8da4-949e25cac8bf",
   "metadata": {},
   "outputs": [],
   "source": [
    "clist= [1,3,5,3,2,4,6,7,9,4,2]"
   ]
  },
  {
   "cell_type": "code",
   "execution_count": 2,
   "id": "c211488a-7b58-424b-a219-bcbfcbef477d",
   "metadata": {},
   "outputs": [],
   "source": [
    "def bubbleSort(list_obj):\n",
    "    for i in range(len(list_obj)-1):\n",
    "        for j in range(len(list_obj)-i-1 ):\n",
    "            if list_obj[j]>list_obj[j+1]:\n",
    "                list_obj[j], list_obj[j+1] = list_obj[j+1], list_obj[j]\n",
    "                \n",
    "        print(list_obj)"
   ]
  },
  {
   "cell_type": "code",
   "execution_count": 3,
   "id": "409f3df1-cf95-4ffc-b3e5-8164c10c5ce9",
   "metadata": {},
   "outputs": [
    {
     "name": "stdout",
     "output_type": "stream",
     "text": [
      "[1, 3, 3, 2, 4, 5, 6, 7, 4, 2, 9]\n",
      "[1, 3, 2, 3, 4, 5, 6, 4, 2, 7, 9]\n",
      "[1, 2, 3, 3, 4, 5, 4, 2, 6, 7, 9]\n",
      "[1, 2, 3, 3, 4, 4, 2, 5, 6, 7, 9]\n",
      "[1, 2, 3, 3, 4, 2, 4, 5, 6, 7, 9]\n",
      "[1, 2, 3, 3, 2, 4, 4, 5, 6, 7, 9]\n",
      "[1, 2, 3, 2, 3, 4, 4, 5, 6, 7, 9]\n",
      "[1, 2, 2, 3, 3, 4, 4, 5, 6, 7, 9]\n",
      "[1, 2, 2, 3, 3, 4, 4, 5, 6, 7, 9]\n",
      "[1, 2, 2, 3, 3, 4, 4, 5, 6, 7, 9]\n"
     ]
    }
   ],
   "source": [
    "bubbleSort(clist)"
   ]
  },
  {
   "cell_type": "code",
   "execution_count": 64,
   "id": "9ca0d431-3c3a-4438-8ec7-d6ba4a8ff14b",
   "metadata": {},
   "outputs": [],
   "source": [
    "clist2= [11,13,15,31,21,42,64,17,94,14,672]"
   ]
  },
  {
   "cell_type": "code",
   "execution_count": 5,
   "id": "a4e8cae5-329b-4ed6-89a2-c054699afdb5",
   "metadata": {},
   "outputs": [
    {
     "name": "stdout",
     "output_type": "stream",
     "text": [
      "[11, 13, 15, 21, 31, 42, 17, 64, 14, 94, 672]\n",
      "[11, 13, 15, 21, 31, 17, 42, 14, 64, 94, 672]\n",
      "[11, 13, 15, 21, 17, 31, 14, 42, 64, 94, 672]\n",
      "[11, 13, 15, 17, 21, 14, 31, 42, 64, 94, 672]\n",
      "[11, 13, 15, 17, 14, 21, 31, 42, 64, 94, 672]\n",
      "[11, 13, 15, 14, 17, 21, 31, 42, 64, 94, 672]\n",
      "[11, 13, 14, 15, 17, 21, 31, 42, 64, 94, 672]\n",
      "[11, 13, 14, 15, 17, 21, 31, 42, 64, 94, 672]\n",
      "[11, 13, 14, 15, 17, 21, 31, 42, 64, 94, 672]\n",
      "[11, 13, 14, 15, 17, 21, 31, 42, 64, 94, 672]\n"
     ]
    }
   ],
   "source": [
    "bubbleSort(clist2)"
   ]
  },
  {
   "cell_type": "code",
   "execution_count": 6,
   "id": "07634015-ff42-4df2-99e5-321b7b658381",
   "metadata": {},
   "outputs": [],
   "source": [
    "def selSort(list_obj):\n",
    "    for i in range(len(list_obj)-1):\n",
    "        min_index= i\n",
    "        for j in range(i+1,len(list_obj)-1 ):\n",
    "            \n",
    "            if list_obj[min_index]>list_obj[j]:\n",
    "                min_index= j\n",
    "                list_obj[min_index], list_obj[i] = list_obj[i], list_obj[min_index]\n",
    "                \n",
    "    print(list_obj)\n",
    "    "
   ]
  },
  {
   "cell_type": "code",
   "execution_count": 7,
   "id": "6642ac82-9398-4b6a-903e-b5a2bb9f8a18",
   "metadata": {},
   "outputs": [
    {
     "name": "stdout",
     "output_type": "stream",
     "text": [
      "[1, 2, 2, 3, 3, 4, 4, 5, 6, 7, 9]\n"
     ]
    }
   ],
   "source": [
    "selSort(clist)"
   ]
  },
  {
   "cell_type": "code",
   "execution_count": 8,
   "id": "b0f98e64-d064-450f-ab0f-a0b33429ac07",
   "metadata": {},
   "outputs": [
    {
     "name": "stdout",
     "output_type": "stream",
     "text": [
      "[11, 13, 14, 15, 17, 21, 31, 42, 64, 94, 672]\n"
     ]
    }
   ],
   "source": [
    "selSort(clist2)"
   ]
  },
  {
   "cell_type": "code",
   "execution_count": 9,
   "id": "c9df5067-4222-4647-bebd-3f1b9c7aef0a",
   "metadata": {},
   "outputs": [],
   "source": [
    "def insertionSort(list_obj):\n",
    "    for i in range(1, len(list_obj)):\n",
    "        key= list_obj[i]\n",
    "        j= i-1\n",
    "        \n",
    "        while j>=0 and list_obj[j]>key:\n",
    "            list_obj[j+1]= list_obj[j]\n",
    "            j -= 1\n",
    "            \n",
    "        list_obj[j+1]= key\n",
    "        \n",
    "    return(list_obj)"
   ]
  },
  {
   "cell_type": "code",
   "execution_count": 10,
   "id": "5334b34e-3484-4ab7-ac38-2c2c45c909fd",
   "metadata": {},
   "outputs": [
    {
     "data": {
      "text/plain": [
       "[1, 2, 2, 3, 3, 4, 4, 5, 6, 7, 9]"
      ]
     },
     "execution_count": 10,
     "metadata": {},
     "output_type": "execute_result"
    }
   ],
   "source": [
    "insertionSort(clist)"
   ]
  },
  {
   "cell_type": "code",
   "execution_count": 11,
   "id": "558149c9-53f1-482c-b0fb-a1bb8b309f2a",
   "metadata": {},
   "outputs": [
    {
     "data": {
      "text/plain": [
       "[11, 13, 14, 15, 17, 21, 31, 42, 64, 94, 672]"
      ]
     },
     "execution_count": 11,
     "metadata": {},
     "output_type": "execute_result"
    }
   ],
   "source": [
    "insertionSort(clist2)"
   ]
  },
  {
   "cell_type": "code",
   "execution_count": 12,
   "id": "ad6ffce2-80b4-4eec-94af-e808edc0f6e3",
   "metadata": {},
   "outputs": [],
   "source": [
    "import math\n",
    "def bucketSort(list_obj):\n",
    "    num_buckets= round(len(list_obj)**2,0)\n",
    "    max_val= len(list_obj)\n",
    "    \n",
    "    arr= []\n",
    "    for i in range( num_buckets):\n",
    "        arr.append([])\n",
    "        \n",
    "    for j in list_obj:\n",
    "        index_=  math.ceil(j*num_buckets/max(list_obj))\n",
    "        arr[index_-1].append(j)\n",
    "    \n",
    "    for i in range(len(arr)):\n",
    "        arr[i]= insertionSort(arr[i])\n",
    "        \n",
    "    k= 0\n",
    "    \n",
    "    for i in range((num_buckets)):\n",
    "        for j in range(len(arr[i])):\n",
    "            list_obj[k]= arr[i][j]\n",
    "            k +=1\n",
    "            \n",
    "    return list_obj"
   ]
  },
  {
   "cell_type": "code",
   "execution_count": 13,
   "id": "632f6694-243a-4277-8913-1a4901c1a0d4",
   "metadata": {},
   "outputs": [
    {
     "data": {
      "text/plain": [
       "[1, 2, 2, 3, 3, 4, 4, 5, 6, 7, 9]"
      ]
     },
     "execution_count": 13,
     "metadata": {},
     "output_type": "execute_result"
    }
   ],
   "source": [
    "bucketSort(clist)"
   ]
  },
  {
   "cell_type": "code",
   "execution_count": 14,
   "id": "c5e9661e-23f8-4538-b700-f2c659bc0fd8",
   "metadata": {},
   "outputs": [
    {
     "data": {
      "text/plain": [
       "[11, 13, 14, 15, 17, 21, 31, 42, 64, 94, 672]"
      ]
     },
     "execution_count": 14,
     "metadata": {},
     "output_type": "execute_result"
    }
   ],
   "source": [
    "bucketSort(clist2)"
   ]
  },
  {
   "cell_type": "code",
   "execution_count": 15,
   "id": "dde79935-f665-40a3-b787-403a23662933",
   "metadata": {
    "scrolled": true,
    "tags": []
   },
   "outputs": [],
   "source": [
    "clist3= [4,5,1,77,888,343,664,23456,68795432456,23456,23457,23458,2345612,56]"
   ]
  },
  {
   "cell_type": "code",
   "execution_count": 16,
   "id": "9ef3ae98-a1e1-4699-bb83-5251ecdcc9b8",
   "metadata": {},
   "outputs": [
    {
     "data": {
      "text/plain": [
       "[1,\n",
       " 4,\n",
       " 5,\n",
       " 56,\n",
       " 77,\n",
       " 343,\n",
       " 664,\n",
       " 888,\n",
       " 23456,\n",
       " 23456,\n",
       " 23457,\n",
       " 23458,\n",
       " 2345612,\n",
       " 68795432456]"
      ]
     },
     "execution_count": 16,
     "metadata": {},
     "output_type": "execute_result"
    }
   ],
   "source": [
    "bucketSort(clist3)"
   ]
  },
  {
   "cell_type": "code",
   "execution_count": 37,
   "id": "731f724b-77d6-490a-a556-a98461898567",
   "metadata": {},
   "outputs": [],
   "source": [
    "def merge(arr, l, m ,r):\n",
    "    n1= m-l+1\n",
    "    n2= r-m\n",
    "    \n",
    "    L= [0]* n1\n",
    "    R= [0]* n2\n",
    "    \n",
    "    for i in range(n1):\n",
    "        L[i]= arr[i+l]\n",
    "        \n",
    "    for j in range(n2):\n",
    "        R[j]= arr[m+j+1]\n",
    "        \n",
    "        \n",
    "    i= 0\n",
    "    j= 0\n",
    "    k= l\n",
    "    \n",
    "    while i<n1 and j<n2:\n",
    "        if L[i]<=R[j]:\n",
    "            arr[k]= L[i]\n",
    "            \n",
    "            i +=1\n",
    "        elif L[i]>R[j]:\n",
    "            arr[k]= R[j]\n",
    "            \n",
    "            j+=1\n",
    "        k += 1\n",
    "        \n",
    "    while i<n1:\n",
    "        arr[k]=L[i]\n",
    "        i+=1\n",
    "        k+=1\n",
    "        \n",
    "    while j<n2:\n",
    "        arr[k]= R[j]\n",
    "        j += 1\n",
    "        k +=1\n",
    "\n",
    "            \n",
    "    return arr "
   ]
  },
  {
   "cell_type": "code",
   "execution_count": 46,
   "id": "6542685e-9c68-4d7c-96c5-0430232ea1f6",
   "metadata": {},
   "outputs": [],
   "source": [
    "def merge_sort(arr,l,r):\n",
    "    if l<r:\n",
    "        m= l+ (r-l)//2\n",
    "        merge_sort(arr,l,m)\n",
    "        merge_sort(arr,m+1,r)\n",
    "        merge(arr,l,m,r)"
   ]
  },
  {
   "cell_type": "code",
   "execution_count": 47,
   "id": "d9f38872-ef7b-4b22-b22e-5e1007e2ad40",
   "metadata": {},
   "outputs": [],
   "source": [
    "merge_sort(clist,0, len(clist)-1)"
   ]
  },
  {
   "cell_type": "code",
   "execution_count": null,
   "id": "27ab51a3-c55a-4b49-83e3-757bc9d232b2",
   "metadata": {},
   "outputs": [],
   "source": []
  },
  {
   "cell_type": "code",
   "execution_count": 50,
   "id": "58f4affd-3dbf-47ed-bd07-994b7a5f53ae",
   "metadata": {},
   "outputs": [],
   "source": [
    "merge_sort(clist2,0, len(clist2)-1)"
   ]
  },
  {
   "cell_type": "code",
   "execution_count": 51,
   "id": "429be0e3-478a-4908-8a8c-26a1d350c6f2",
   "metadata": {},
   "outputs": [],
   "source": [
    "merge_sort(clist3,0, len(clist3)-1)"
   ]
  },
  {
   "cell_type": "code",
   "execution_count": 52,
   "id": "d920a9ff-c311-4849-a6cb-0fff06463726",
   "metadata": {},
   "outputs": [
    {
     "data": {
      "text/plain": [
       "[1,\n",
       " 4,\n",
       " 5,\n",
       " 56,\n",
       " 77,\n",
       " 343,\n",
       " 664,\n",
       " 888,\n",
       " 23456,\n",
       " 23456,\n",
       " 23457,\n",
       " 23458,\n",
       " 2345612,\n",
       " 68795432456]"
      ]
     },
     "execution_count": 52,
     "metadata": {},
     "output_type": "execute_result"
    }
   ],
   "source": [
    "clist3"
   ]
  },
  {
   "cell_type": "code",
   "execution_count": 53,
   "id": "23efe989-59a7-48ac-8ec6-45cdce51d3a9",
   "metadata": {},
   "outputs": [
    {
     "data": {
      "text/plain": [
       "[11, 13, 14, 15, 17, 21, 31, 42, 64, 94, 672]"
      ]
     },
     "execution_count": 53,
     "metadata": {},
     "output_type": "execute_result"
    }
   ],
   "source": [
    "clist2"
   ]
  },
  {
   "cell_type": "code",
   "execution_count": null,
   "id": "95bcd28d-b00f-40df-bd28-c2321bd4cdab",
   "metadata": {},
   "outputs": [],
   "source": []
  },
  {
   "cell_type": "code",
   "execution_count": 119,
   "id": "806021a5-88b6-49d5-be13-63f5168c90be",
   "metadata": {},
   "outputs": [],
   "source": [
    "def partition(arr, low, high):\n",
    "    i= low-1\n",
    "    pivot = arr[high]\n",
    "    \n",
    "    for j in range(low,high):\n",
    "        if arr[j]<= pivot:\n",
    "            i = i+1\n",
    "            arr[i],arr[j] = arr[j], arr[i]\n",
    "    \n",
    "    arr[i+1],arr[high]=  arr[high], arr[i+1]\n",
    "    \n",
    "    return i+1\n",
    "\n",
    "\n"
   ]
  },
  {
   "cell_type": "code",
   "execution_count": 120,
   "id": "96880fe0-b063-4a49-8a25-fb9d11b960c6",
   "metadata": {},
   "outputs": [],
   "source": [
    "def quick_sort(arr, low, high):\n",
    "    if len(arr)==1:\n",
    "        return arr\n",
    "    if low<high:\n",
    "        pi = partition(arr, low,high)\n",
    "\n",
    "        quick_sort(arr, low, pi-1)\n",
    "        quick_sort(arr,pi+1,high)\n",
    "        \n",
    "        \n",
    "\n"
   ]
  },
  {
   "cell_type": "code",
   "execution_count": 121,
   "id": "a75761b4-3306-4ddf-ac14-5218fac004e2",
   "metadata": {},
   "outputs": [],
   "source": [
    "jayz=[2,3452,45,6,3,2,5,7,8,2,2456,7,866,4,35,678,455333,5432,67,89,345678,345678,4567832,345623,457,8]"
   ]
  },
  {
   "cell_type": "code",
   "execution_count": 122,
   "id": "bf3be140-5e29-4ebf-92c7-f254d72f1ac8",
   "metadata": {},
   "outputs": [],
   "source": [
    "a=[10, 7, 8, 9, 1, 5]"
   ]
  },
  {
   "cell_type": "code",
   "execution_count": 123,
   "id": "f2d2c840-46e5-441a-a62a-8704348230c1",
   "metadata": {
    "tags": []
   },
   "outputs": [],
   "source": [
    "quick_sort(a, 0, 5)"
   ]
  },
  {
   "cell_type": "code",
   "execution_count": 124,
   "id": "d44df0f2-0eda-4ffd-8999-68bdcc269596",
   "metadata": {},
   "outputs": [
    {
     "data": {
      "text/plain": [
       "[1, 5, 7, 8, 9, 10]"
      ]
     },
     "execution_count": 124,
     "metadata": {},
     "output_type": "execute_result"
    }
   ],
   "source": [
    "a"
   ]
  },
  {
   "cell_type": "code",
   "execution_count": 126,
   "id": "de9f2c02-8add-491f-8838-32c7fdc36170",
   "metadata": {},
   "outputs": [],
   "source": [
    "quick_sort(jayz, 0, len(jayz)-1)"
   ]
  },
  {
   "cell_type": "code",
   "execution_count": 127,
   "id": "46e1b149-9776-41d9-a528-ccfd1ade5b98",
   "metadata": {},
   "outputs": [
    {
     "data": {
      "text/plain": [
       "[2,\n",
       " 2,\n",
       " 2,\n",
       " 3,\n",
       " 4,\n",
       " 5,\n",
       " 6,\n",
       " 7,\n",
       " 7,\n",
       " 8,\n",
       " 8,\n",
       " 35,\n",
       " 45,\n",
       " 67,\n",
       " 89,\n",
       " 457,\n",
       " 678,\n",
       " 866,\n",
       " 2456,\n",
       " 3452,\n",
       " 5432,\n",
       " 345623,\n",
       " 345678,\n",
       " 345678,\n",
       " 455333,\n",
       " 4567832]"
      ]
     },
     "execution_count": 127,
     "metadata": {},
     "output_type": "execute_result"
    }
   ],
   "source": [
    "jayz"
   ]
  },
  {
   "cell_type": "code",
   "execution_count": 128,
   "id": "8db5efef-e694-4fa4-9966-1d225ec7b564",
   "metadata": {},
   "outputs": [
    {
     "name": "stdout",
     "output_type": "stream",
     "text": [
      "[9, 8, 7, 6, 5, 4, 3, 2, 1]\n"
     ]
    }
   ],
   "source": [
    "def heapify(customList, n, i):\n",
    "    smallest = i\n",
    "    l = 2*i + 1\n",
    "    r = 2*i + 2\n",
    "    if l < n and customList[l] < customList[smallest]:\n",
    "        smallest = l\n",
    "    \n",
    "    if r < n and customList[r] < customList[smallest]:\n",
    "        smallest = r\n",
    "    \n",
    "    if smallest != i:\n",
    "        customList[i], customList[smallest] = customList[smallest], customList[i]\n",
    "        heapify(customList, n, smallest)\n",
    "\n",
    "\n",
    "def heapSort(customList):\n",
    "    n = len(customList)\n",
    "    for i in range(int(n/2)-1, -1, -1):\n",
    "        heapify(customList, n, i)\n",
    "    \n",
    "    for i in range(n-1,0,-1):\n",
    "        customList[i], customList[0] = customList[0], customList[i]\n",
    "        heapify(customList, i, 0)\n",
    "    # customList.reverse()\n",
    "\n",
    "\n",
    "\n",
    "cList = [2,1,7,6,5,3,4,9,8]\n",
    "heapSort(cList)\n",
    "print(cList)"
   ]
  },
  {
   "cell_type": "code",
   "execution_count": 161,
   "id": "ea44f0a3-e887-4a67-a4fe-d108737cffbd",
   "metadata": {},
   "outputs": [],
   "source": [
    "def bin_search(arr, val):\n",
    "    start= 0\n",
    "    end=len(arr)-1\n",
    "    mid= math.floor((start+end)/2)\n",
    "    \n",
    "    if arr[mid]== val:\n",
    "        return mid\n",
    "    \n",
    "    \n",
    "    while arr[mid] != val:\n",
    "        if arr[mid] < val:\n",
    "            start= mid+1\n",
    "            print(\"start is: \",start)\n",
    "        else:\n",
    "            end= mid-1\n",
    "            print(\"The end is: \", end)\n",
    "    \n",
    "        mid= math.floor((start+end)/2)\n",
    "        \n",
    "#         bin_search(arr[start:end],val)\n",
    "        \n",
    "        if start==end:\n",
    "            return \"Nothing\"\n",
    "            \n",
    "    if val== arr[mid]:\n",
    "        return mid\n",
    "\n",
    "    \n",
    "        \n",
    "        "
   ]
  },
  {
   "cell_type": "code",
   "execution_count": 163,
   "id": "8bcc8424-6b81-439e-b72e-e9b47687dd3e",
   "metadata": {},
   "outputs": [
    {
     "name": "stdout",
     "output_type": "stream",
     "text": [
      "start is:  5\n",
      "start is:  7\n",
      "start is:  8\n"
     ]
    },
    {
     "data": {
      "text/plain": [
       "'Nothing'"
      ]
     },
     "execution_count": 163,
     "metadata": {},
     "output_type": "execute_result"
    }
   ],
   "source": [
    "bin_search([1,3,5,7,9,11,13,15,17], 156441)"
   ]
  },
  {
   "cell_type": "code",
   "execution_count": null,
   "id": "4cabc98f-96bf-498b-a48b-909308794168",
   "metadata": {},
   "outputs": [],
   "source": []
  }
 ],
 "metadata": {
  "kernelspec": {
   "display_name": "Python 3",
   "language": "python",
   "name": "python3"
  },
  "language_info": {
   "codemirror_mode": {
    "name": "ipython",
    "version": 3
   },
   "file_extension": ".py",
   "mimetype": "text/x-python",
   "name": "python",
   "nbconvert_exporter": "python",
   "pygments_lexer": "ipython3",
   "version": "3.8.5"
  }
 },
 "nbformat": 4,
 "nbformat_minor": 5
}
